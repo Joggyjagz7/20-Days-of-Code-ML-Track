{
 "cells": [
  {
   "cell_type": "markdown",
   "metadata": {},
   "source": [
    "# Day 9: CHESS END-GAME\n",
    "### - Load the data into a pandas dataframe and insert the column headers with the target labeled as target.\n",
    "### - Implement a 70-30 test train split on the data  without using the sklearn method.\n",
    "### - Preprocess the data. \n",
    "### - Select(engineer) 18 features for training and suggest an algorithm.\n",
    " \n",
    "#### #LiveLongAndProsper"
   ]
  },
  {
   "cell_type": "code",
   "execution_count": 3,
   "metadata": {},
   "outputs": [],
   "source": [
    "import pandas as pd\n",
    "import numpy as np\n",
    "import matplotlib.pyplot as plt\n",
    "import seaborn as sns"
   ]
  },
  {
   "cell_type": "code",
   "execution_count": 4,
   "metadata": {},
   "outputs": [],
   "source": [
    "ch = pd.read_csv('/kr-vs-kp1.csv')"
   ]
  },
  {
   "cell_type": "code",
   "execution_count": 27,
   "metadata": {},
   "outputs": [
    {
     "data": {
      "text/plain": [
       "Index(['f', 'f.1', 'f.2', 'f.3', 'f.4', 'f.5', 'f.6', 'f.7', 'f.8', 'f.9',\n",
       "       'f.10', 'f.11', 'l', 'f.12', 'n', 'f.13', 'f.14', 't', 'f.15', 'f.16',\n",
       "       'f.17', 'f.18', 'f.19', 'f.20', 'f.21', 't.1', 'f.22', 'f.23', 'f.24',\n",
       "       'f.25', 'f.26', 'f.27', 'f.28', 't.2', 't.3', 'n.1', 'won'],\n",
       "      dtype='object')"
      ]
     },
     "execution_count": 27,
     "metadata": {},
     "output_type": "execute_result"
    }
   ],
   "source": [
    "ch.keys()"
   ]
  },
  {
   "cell_type": "code",
   "execution_count": 5,
   "metadata": {},
   "outputs": [
    {
     "data": {
      "text/html": [
       "<div>\n",
       "<style scoped>\n",
       "    .dataframe tbody tr th:only-of-type {\n",
       "        vertical-align: middle;\n",
       "    }\n",
       "\n",
       "    .dataframe tbody tr th {\n",
       "        vertical-align: top;\n",
       "    }\n",
       "\n",
       "    .dataframe thead th {\n",
       "        text-align: right;\n",
       "    }\n",
       "</style>\n",
       "<table border=\"1\" class=\"dataframe\">\n",
       "  <thead>\n",
       "    <tr style=\"text-align: right;\">\n",
       "      <th></th>\n",
       "      <th>f</th>\n",
       "      <th>f.1</th>\n",
       "      <th>f.2</th>\n",
       "      <th>f.3</th>\n",
       "      <th>f.4</th>\n",
       "      <th>f.5</th>\n",
       "      <th>f.6</th>\n",
       "      <th>f.7</th>\n",
       "      <th>f.8</th>\n",
       "      <th>f.9</th>\n",
       "      <th>...</th>\n",
       "      <th>f.23</th>\n",
       "      <th>f.24</th>\n",
       "      <th>f.25</th>\n",
       "      <th>f.26</th>\n",
       "      <th>f.27</th>\n",
       "      <th>f.28</th>\n",
       "      <th>t.2</th>\n",
       "      <th>t.3</th>\n",
       "      <th>n.1</th>\n",
       "      <th>won</th>\n",
       "    </tr>\n",
       "  </thead>\n",
       "  <tbody>\n",
       "    <tr>\n",
       "      <td>0</td>\n",
       "      <td>f</td>\n",
       "      <td>f</td>\n",
       "      <td>f</td>\n",
       "      <td>f</td>\n",
       "      <td>t</td>\n",
       "      <td>f</td>\n",
       "      <td>f</td>\n",
       "      <td>f</td>\n",
       "      <td>f</td>\n",
       "      <td>f</td>\n",
       "      <td>...</td>\n",
       "      <td>f</td>\n",
       "      <td>f</td>\n",
       "      <td>f</td>\n",
       "      <td>f</td>\n",
       "      <td>f</td>\n",
       "      <td>f</td>\n",
       "      <td>t</td>\n",
       "      <td>t</td>\n",
       "      <td>n</td>\n",
       "      <td>won</td>\n",
       "    </tr>\n",
       "    <tr>\n",
       "      <td>1</td>\n",
       "      <td>f</td>\n",
       "      <td>f</td>\n",
       "      <td>f</td>\n",
       "      <td>f</td>\n",
       "      <td>t</td>\n",
       "      <td>f</td>\n",
       "      <td>t</td>\n",
       "      <td>f</td>\n",
       "      <td>f</td>\n",
       "      <td>f</td>\n",
       "      <td>...</td>\n",
       "      <td>f</td>\n",
       "      <td>f</td>\n",
       "      <td>f</td>\n",
       "      <td>f</td>\n",
       "      <td>f</td>\n",
       "      <td>f</td>\n",
       "      <td>t</td>\n",
       "      <td>t</td>\n",
       "      <td>n</td>\n",
       "      <td>won</td>\n",
       "    </tr>\n",
       "    <tr>\n",
       "      <td>2</td>\n",
       "      <td>f</td>\n",
       "      <td>f</td>\n",
       "      <td>f</td>\n",
       "      <td>f</td>\n",
       "      <td>f</td>\n",
       "      <td>f</td>\n",
       "      <td>f</td>\n",
       "      <td>f</td>\n",
       "      <td>t</td>\n",
       "      <td>f</td>\n",
       "      <td>...</td>\n",
       "      <td>f</td>\n",
       "      <td>f</td>\n",
       "      <td>f</td>\n",
       "      <td>f</td>\n",
       "      <td>f</td>\n",
       "      <td>f</td>\n",
       "      <td>t</td>\n",
       "      <td>t</td>\n",
       "      <td>n</td>\n",
       "      <td>won</td>\n",
       "    </tr>\n",
       "    <tr>\n",
       "      <td>3</td>\n",
       "      <td>f</td>\n",
       "      <td>f</td>\n",
       "      <td>f</td>\n",
       "      <td>f</td>\n",
       "      <td>f</td>\n",
       "      <td>f</td>\n",
       "      <td>f</td>\n",
       "      <td>f</td>\n",
       "      <td>f</td>\n",
       "      <td>f</td>\n",
       "      <td>...</td>\n",
       "      <td>f</td>\n",
       "      <td>f</td>\n",
       "      <td>f</td>\n",
       "      <td>f</td>\n",
       "      <td>f</td>\n",
       "      <td>f</td>\n",
       "      <td>t</td>\n",
       "      <td>t</td>\n",
       "      <td>n</td>\n",
       "      <td>won</td>\n",
       "    </tr>\n",
       "    <tr>\n",
       "      <td>4</td>\n",
       "      <td>f</td>\n",
       "      <td>f</td>\n",
       "      <td>f</td>\n",
       "      <td>f</td>\n",
       "      <td>f</td>\n",
       "      <td>f</td>\n",
       "      <td>f</td>\n",
       "      <td>f</td>\n",
       "      <td>f</td>\n",
       "      <td>f</td>\n",
       "      <td>...</td>\n",
       "      <td>f</td>\n",
       "      <td>f</td>\n",
       "      <td>t</td>\n",
       "      <td>f</td>\n",
       "      <td>f</td>\n",
       "      <td>f</td>\n",
       "      <td>t</td>\n",
       "      <td>t</td>\n",
       "      <td>n</td>\n",
       "      <td>won</td>\n",
       "    </tr>\n",
       "  </tbody>\n",
       "</table>\n",
       "<p>5 rows × 37 columns</p>\n",
       "</div>"
      ],
      "text/plain": [
       "   f f.1 f.2 f.3 f.4 f.5 f.6 f.7 f.8 f.9  ... f.23 f.24 f.25 f.26 f.27 f.28  \\\n",
       "0  f   f   f   f   t   f   f   f   f   f  ...    f    f    f    f    f    f   \n",
       "1  f   f   f   f   t   f   t   f   f   f  ...    f    f    f    f    f    f   \n",
       "2  f   f   f   f   f   f   f   f   t   f  ...    f    f    f    f    f    f   \n",
       "3  f   f   f   f   f   f   f   f   f   f  ...    f    f    f    f    f    f   \n",
       "4  f   f   f   f   f   f   f   f   f   f  ...    f    f    t    f    f    f   \n",
       "\n",
       "  t.2 t.3 n.1  won  \n",
       "0   t   t   n  won  \n",
       "1   t   t   n  won  \n",
       "2   t   t   n  won  \n",
       "3   t   t   n  won  \n",
       "4   t   t   n  won  \n",
       "\n",
       "[5 rows x 37 columns]"
      ]
     },
     "execution_count": 5,
     "metadata": {},
     "output_type": "execute_result"
    }
   ],
   "source": [
    "ch.head()"
   ]
  },
  {
   "cell_type": "code",
   "execution_count": 6,
   "metadata": {},
   "outputs": [
    {
     "data": {
      "text/html": [
       "<div>\n",
       "<style scoped>\n",
       "    .dataframe tbody tr th:only-of-type {\n",
       "        vertical-align: middle;\n",
       "    }\n",
       "\n",
       "    .dataframe tbody tr th {\n",
       "        vertical-align: top;\n",
       "    }\n",
       "\n",
       "    .dataframe thead th {\n",
       "        text-align: right;\n",
       "    }\n",
       "</style>\n",
       "<table border=\"1\" class=\"dataframe\">\n",
       "  <thead>\n",
       "    <tr style=\"text-align: right;\">\n",
       "      <th></th>\n",
       "      <th>f</th>\n",
       "      <th>f.1</th>\n",
       "      <th>f.2</th>\n",
       "      <th>f.3</th>\n",
       "      <th>f.4</th>\n",
       "      <th>f.5</th>\n",
       "      <th>f.6</th>\n",
       "      <th>f.7</th>\n",
       "      <th>f.8</th>\n",
       "      <th>f.9</th>\n",
       "      <th>...</th>\n",
       "      <th>f.23</th>\n",
       "      <th>f.24</th>\n",
       "      <th>f.25</th>\n",
       "      <th>f.26</th>\n",
       "      <th>f.27</th>\n",
       "      <th>f.28</th>\n",
       "      <th>t.2</th>\n",
       "      <th>t.3</th>\n",
       "      <th>n.1</th>\n",
       "      <th>won</th>\n",
       "    </tr>\n",
       "  </thead>\n",
       "  <tbody>\n",
       "    <tr>\n",
       "      <td>count</td>\n",
       "      <td>3195</td>\n",
       "      <td>3195</td>\n",
       "      <td>3195</td>\n",
       "      <td>3195</td>\n",
       "      <td>3195</td>\n",
       "      <td>3195</td>\n",
       "      <td>3195</td>\n",
       "      <td>3195</td>\n",
       "      <td>3195</td>\n",
       "      <td>3195</td>\n",
       "      <td>...</td>\n",
       "      <td>3195</td>\n",
       "      <td>3195</td>\n",
       "      <td>3195</td>\n",
       "      <td>3195</td>\n",
       "      <td>3195</td>\n",
       "      <td>3195</td>\n",
       "      <td>3195</td>\n",
       "      <td>3195</td>\n",
       "      <td>3195</td>\n",
       "      <td>3195</td>\n",
       "    </tr>\n",
       "    <tr>\n",
       "      <td>unique</td>\n",
       "      <td>2</td>\n",
       "      <td>2</td>\n",
       "      <td>2</td>\n",
       "      <td>2</td>\n",
       "      <td>2</td>\n",
       "      <td>2</td>\n",
       "      <td>2</td>\n",
       "      <td>2</td>\n",
       "      <td>2</td>\n",
       "      <td>2</td>\n",
       "      <td>...</td>\n",
       "      <td>2</td>\n",
       "      <td>2</td>\n",
       "      <td>2</td>\n",
       "      <td>2</td>\n",
       "      <td>2</td>\n",
       "      <td>2</td>\n",
       "      <td>2</td>\n",
       "      <td>2</td>\n",
       "      <td>2</td>\n",
       "      <td>2</td>\n",
       "    </tr>\n",
       "    <tr>\n",
       "      <td>top</td>\n",
       "      <td>f</td>\n",
       "      <td>f</td>\n",
       "      <td>f</td>\n",
       "      <td>f</td>\n",
       "      <td>f</td>\n",
       "      <td>f</td>\n",
       "      <td>f</td>\n",
       "      <td>f</td>\n",
       "      <td>f</td>\n",
       "      <td>f</td>\n",
       "      <td>...</td>\n",
       "      <td>f</td>\n",
       "      <td>f</td>\n",
       "      <td>f</td>\n",
       "      <td>f</td>\n",
       "      <td>f</td>\n",
       "      <td>f</td>\n",
       "      <td>t</td>\n",
       "      <td>t</td>\n",
       "      <td>n</td>\n",
       "      <td>won</td>\n",
       "    </tr>\n",
       "    <tr>\n",
       "      <td>freq</td>\n",
       "      <td>2838</td>\n",
       "      <td>2970</td>\n",
       "      <td>3075</td>\n",
       "      <td>2873</td>\n",
       "      <td>2128</td>\n",
       "      <td>1721</td>\n",
       "      <td>2025</td>\n",
       "      <td>2499</td>\n",
       "      <td>1979</td>\n",
       "      <td>2224</td>\n",
       "      <td>...</td>\n",
       "      <td>3194</td>\n",
       "      <td>3148</td>\n",
       "      <td>3059</td>\n",
       "      <td>2630</td>\n",
       "      <td>3020</td>\n",
       "      <td>1983</td>\n",
       "      <td>2006</td>\n",
       "      <td>2344</td>\n",
       "      <td>2406</td>\n",
       "      <td>1668</td>\n",
       "    </tr>\n",
       "  </tbody>\n",
       "</table>\n",
       "<p>4 rows × 37 columns</p>\n",
       "</div>"
      ],
      "text/plain": [
       "           f   f.1   f.2   f.3   f.4   f.5   f.6   f.7   f.8   f.9  ...  f.23  \\\n",
       "count   3195  3195  3195  3195  3195  3195  3195  3195  3195  3195  ...  3195   \n",
       "unique     2     2     2     2     2     2     2     2     2     2  ...     2   \n",
       "top        f     f     f     f     f     f     f     f     f     f  ...     f   \n",
       "freq    2838  2970  3075  2873  2128  1721  2025  2499  1979  2224  ...  3194   \n",
       "\n",
       "        f.24  f.25  f.26  f.27  f.28   t.2   t.3   n.1   won  \n",
       "count   3195  3195  3195  3195  3195  3195  3195  3195  3195  \n",
       "unique     2     2     2     2     2     2     2     2     2  \n",
       "top        f     f     f     f     f     t     t     n   won  \n",
       "freq    3148  3059  2630  3020  1983  2006  2344  2406  1668  \n",
       "\n",
       "[4 rows x 37 columns]"
      ]
     },
     "execution_count": 6,
     "metadata": {},
     "output_type": "execute_result"
    }
   ],
   "source": [
    "ch.describe()"
   ]
  },
  {
   "cell_type": "code",
   "execution_count": 7,
   "metadata": {},
   "outputs": [
    {
     "name": "stdout",
     "output_type": "stream",
     "text": [
      "<class 'pandas.core.frame.DataFrame'>\n",
      "RangeIndex: 3195 entries, 0 to 3194\n",
      "Data columns (total 37 columns):\n",
      "f       3195 non-null object\n",
      "f.1     3195 non-null object\n",
      "f.2     3195 non-null object\n",
      "f.3     3195 non-null object\n",
      "f.4     3195 non-null object\n",
      "f.5     3195 non-null object\n",
      "f.6     3195 non-null object\n",
      "f.7     3195 non-null object\n",
      "f.8     3195 non-null object\n",
      "f.9     3195 non-null object\n",
      "f.10    3195 non-null object\n",
      "f.11    3195 non-null object\n",
      "l       3195 non-null object\n",
      "f.12    3195 non-null object\n",
      "n       3195 non-null object\n",
      "f.13    3195 non-null object\n",
      "f.14    3195 non-null object\n",
      "t       3195 non-null object\n",
      "f.15    3195 non-null object\n",
      "f.16    3195 non-null object\n",
      "f.17    3195 non-null object\n",
      "f.18    3195 non-null object\n",
      "f.19    3195 non-null object\n",
      "f.20    3195 non-null object\n",
      "f.21    3195 non-null object\n",
      "t.1     3195 non-null object\n",
      "f.22    3195 non-null object\n",
      "f.23    3195 non-null object\n",
      "f.24    3195 non-null object\n",
      "f.25    3195 non-null object\n",
      "f.26    3195 non-null object\n",
      "f.27    3195 non-null object\n",
      "f.28    3195 non-null object\n",
      "t.2     3195 non-null object\n",
      "t.3     3195 non-null object\n",
      "n.1     3195 non-null object\n",
      "won     3195 non-null object\n",
      "dtypes: object(37)\n",
      "memory usage: 923.7+ KB\n"
     ]
    }
   ],
   "source": [
    "ch.info()"
   ]
  },
  {
   "cell_type": "markdown",
   "metadata": {},
   "source": [
    "### 70-30 test train split "
   ]
  },
  {
   "cell_type": "code",
   "execution_count": 21,
   "metadata": {},
   "outputs": [],
   "source": [
    "ch_copy = ch.copy()"
   ]
  },
  {
   "cell_type": "code",
   "execution_count": 24,
   "metadata": {},
   "outputs": [],
   "source": [
    "train = ch_copy.sample(frac=0.70, random_state=0)\n",
    "test = ch_copy.drop(train.index)"
   ]
  },
  {
   "cell_type": "code",
   "execution_count": 25,
   "metadata": {},
   "outputs": [
    {
     "data": {
      "text/plain": [
       "(2236, 37)"
      ]
     },
     "execution_count": 25,
     "metadata": {},
     "output_type": "execute_result"
    }
   ],
   "source": [
    "train.shape"
   ]
  },
  {
   "cell_type": "code",
   "execution_count": 26,
   "metadata": {},
   "outputs": [
    {
     "data": {
      "text/plain": [
       "(959, 37)"
      ]
     },
     "execution_count": 26,
     "metadata": {},
     "output_type": "execute_result"
    }
   ],
   "source": [
    "test.shape"
   ]
  },
  {
   "cell_type": "markdown",
   "metadata": {},
   "source": [
    "### Preprocess the data"
   ]
  },
  {
   "cell_type": "code",
   "execution_count": 29,
   "metadata": {},
   "outputs": [],
   "source": [
    "ch_c = [train, test]  #combine train and test"
   ]
  },
  {
   "cell_type": "code",
   "execution_count": 31,
   "metadata": {},
   "outputs": [],
   "source": [
    "ch_p =pd.concat(ch_c)"
   ]
  },
  {
   "cell_type": "code",
   "execution_count": 32,
   "metadata": {},
   "outputs": [
    {
     "data": {
      "text/plain": [
       "(3195, 37)"
      ]
     },
     "execution_count": 32,
     "metadata": {},
     "output_type": "execute_result"
    }
   ],
   "source": [
    "ch_p.shape"
   ]
  },
  {
   "cell_type": "code",
   "execution_count": 33,
   "metadata": {},
   "outputs": [],
   "source": [
    "ch_p = ch_p.astype('category')"
   ]
  },
  {
   "cell_type": "code",
   "execution_count": 34,
   "metadata": {},
   "outputs": [
    {
     "name": "stdout",
     "output_type": "stream",
     "text": [
      "<class 'pandas.core.frame.DataFrame'>\n",
      "Int64Index: 3195 entries, 936 to 3192\n",
      "Data columns (total 37 columns):\n",
      "f       3195 non-null category\n",
      "f.1     3195 non-null category\n",
      "f.2     3195 non-null category\n",
      "f.3     3195 non-null category\n",
      "f.4     3195 non-null category\n",
      "f.5     3195 non-null category\n",
      "f.6     3195 non-null category\n",
      "f.7     3195 non-null category\n",
      "f.8     3195 non-null category\n",
      "f.9     3195 non-null category\n",
      "f.10    3195 non-null category\n",
      "f.11    3195 non-null category\n",
      "l       3195 non-null category\n",
      "f.12    3195 non-null category\n",
      "n       3195 non-null category\n",
      "f.13    3195 non-null category\n",
      "f.14    3195 non-null category\n",
      "t       3195 non-null category\n",
      "f.15    3195 non-null category\n",
      "f.16    3195 non-null category\n",
      "f.17    3195 non-null category\n",
      "f.18    3195 non-null category\n",
      "f.19    3195 non-null category\n",
      "f.20    3195 non-null category\n",
      "f.21    3195 non-null category\n",
      "t.1     3195 non-null category\n",
      "f.22    3195 non-null category\n",
      "f.23    3195 non-null category\n",
      "f.24    3195 non-null category\n",
      "f.25    3195 non-null category\n",
      "f.26    3195 non-null category\n",
      "f.27    3195 non-null category\n",
      "f.28    3195 non-null category\n",
      "t.2     3195 non-null category\n",
      "t.3     3195 non-null category\n",
      "n.1     3195 non-null category\n",
      "won     3195 non-null category\n",
      "dtypes: category(37)\n",
      "memory usage: 143.9 KB\n"
     ]
    }
   ],
   "source": [
    "ch_p.info()"
   ]
  },
  {
   "cell_type": "code",
   "execution_count": 35,
   "metadata": {},
   "outputs": [
    {
     "data": {
      "text/plain": [
       "won      1668\n",
       "nowin    1527\n",
       "Name: won, dtype: int64"
      ]
     },
     "execution_count": 35,
     "metadata": {},
     "output_type": "execute_result"
    }
   ],
   "source": [
    "ch_p['won'].value_counts()"
   ]
  },
  {
   "cell_type": "code",
   "execution_count": 39,
   "metadata": {},
   "outputs": [],
   "source": [
    "ch_p['won'] = ch_p['won'].replace('won', 1)"
   ]
  },
  {
   "cell_type": "code",
   "execution_count": 40,
   "metadata": {},
   "outputs": [],
   "source": [
    "ch_p['won'] = ch_p['won'].replace('nowin', 0)"
   ]
  },
  {
   "cell_type": "code",
   "execution_count": 41,
   "metadata": {},
   "outputs": [
    {
     "data": {
      "text/plain": [
       "1    1668\n",
       "0    1527\n",
       "Name: won, dtype: int64"
      ]
     },
     "execution_count": 41,
     "metadata": {},
     "output_type": "execute_result"
    }
   ],
   "source": [
    "ch_p['won'].value_counts()"
   ]
  },
  {
   "cell_type": "markdown",
   "metadata": {},
   "source": [
    "### Select 18 features"
   ]
  },
  {
   "cell_type": "code",
   "execution_count": 46,
   "metadata": {},
   "outputs": [],
   "source": [
    "ch_features = ch.drop(['f.18', 'f.19', 'f.20', 'f.21', 't.1', 'f.22', 'f.23', 'f.24','f.6', 'f.7', 'f.8', 'f.9','f.25', 'f.26', 'f.27', 'f.28', 't.2', 'n.1', 'won'], axis = 1)"
   ]
  },
  {
   "cell_type": "code",
   "execution_count": 47,
   "metadata": {},
   "outputs": [
    {
     "data": {
      "text/html": [
       "<div>\n",
       "<style scoped>\n",
       "    .dataframe tbody tr th:only-of-type {\n",
       "        vertical-align: middle;\n",
       "    }\n",
       "\n",
       "    .dataframe tbody tr th {\n",
       "        vertical-align: top;\n",
       "    }\n",
       "\n",
       "    .dataframe thead th {\n",
       "        text-align: right;\n",
       "    }\n",
       "</style>\n",
       "<table border=\"1\" class=\"dataframe\">\n",
       "  <thead>\n",
       "    <tr style=\"text-align: right;\">\n",
       "      <th></th>\n",
       "      <th>f</th>\n",
       "      <th>f.1</th>\n",
       "      <th>f.2</th>\n",
       "      <th>f.3</th>\n",
       "      <th>f.4</th>\n",
       "      <th>f.5</th>\n",
       "      <th>f.10</th>\n",
       "      <th>f.11</th>\n",
       "      <th>l</th>\n",
       "      <th>f.12</th>\n",
       "      <th>n</th>\n",
       "      <th>f.13</th>\n",
       "      <th>f.14</th>\n",
       "      <th>t</th>\n",
       "      <th>f.15</th>\n",
       "      <th>f.16</th>\n",
       "      <th>f.17</th>\n",
       "      <th>t.3</th>\n",
       "    </tr>\n",
       "  </thead>\n",
       "  <tbody>\n",
       "    <tr>\n",
       "      <td>0</td>\n",
       "      <td>f</td>\n",
       "      <td>f</td>\n",
       "      <td>f</td>\n",
       "      <td>f</td>\n",
       "      <td>t</td>\n",
       "      <td>f</td>\n",
       "      <td>f</td>\n",
       "      <td>f</td>\n",
       "      <td>l</td>\n",
       "      <td>f</td>\n",
       "      <td>n</td>\n",
       "      <td>f</td>\n",
       "      <td>f</td>\n",
       "      <td>t</td>\n",
       "      <td>f</td>\n",
       "      <td>f</td>\n",
       "      <td>f</td>\n",
       "      <td>t</td>\n",
       "    </tr>\n",
       "    <tr>\n",
       "      <td>1</td>\n",
       "      <td>f</td>\n",
       "      <td>f</td>\n",
       "      <td>f</td>\n",
       "      <td>f</td>\n",
       "      <td>t</td>\n",
       "      <td>f</td>\n",
       "      <td>f</td>\n",
       "      <td>f</td>\n",
       "      <td>l</td>\n",
       "      <td>f</td>\n",
       "      <td>n</td>\n",
       "      <td>f</td>\n",
       "      <td>f</td>\n",
       "      <td>t</td>\n",
       "      <td>f</td>\n",
       "      <td>f</td>\n",
       "      <td>f</td>\n",
       "      <td>t</td>\n",
       "    </tr>\n",
       "    <tr>\n",
       "      <td>2</td>\n",
       "      <td>f</td>\n",
       "      <td>f</td>\n",
       "      <td>f</td>\n",
       "      <td>f</td>\n",
       "      <td>f</td>\n",
       "      <td>f</td>\n",
       "      <td>f</td>\n",
       "      <td>f</td>\n",
       "      <td>l</td>\n",
       "      <td>f</td>\n",
       "      <td>n</td>\n",
       "      <td>f</td>\n",
       "      <td>f</td>\n",
       "      <td>t</td>\n",
       "      <td>f</td>\n",
       "      <td>f</td>\n",
       "      <td>f</td>\n",
       "      <td>t</td>\n",
       "    </tr>\n",
       "    <tr>\n",
       "      <td>3</td>\n",
       "      <td>f</td>\n",
       "      <td>f</td>\n",
       "      <td>f</td>\n",
       "      <td>f</td>\n",
       "      <td>f</td>\n",
       "      <td>f</td>\n",
       "      <td>f</td>\n",
       "      <td>f</td>\n",
       "      <td>l</td>\n",
       "      <td>f</td>\n",
       "      <td>n</td>\n",
       "      <td>f</td>\n",
       "      <td>f</td>\n",
       "      <td>t</td>\n",
       "      <td>f</td>\n",
       "      <td>f</td>\n",
       "      <td>f</td>\n",
       "      <td>t</td>\n",
       "    </tr>\n",
       "    <tr>\n",
       "      <td>4</td>\n",
       "      <td>f</td>\n",
       "      <td>f</td>\n",
       "      <td>f</td>\n",
       "      <td>f</td>\n",
       "      <td>f</td>\n",
       "      <td>f</td>\n",
       "      <td>f</td>\n",
       "      <td>f</td>\n",
       "      <td>l</td>\n",
       "      <td>f</td>\n",
       "      <td>n</td>\n",
       "      <td>f</td>\n",
       "      <td>f</td>\n",
       "      <td>t</td>\n",
       "      <td>f</td>\n",
       "      <td>f</td>\n",
       "      <td>f</td>\n",
       "      <td>t</td>\n",
       "    </tr>\n",
       "  </tbody>\n",
       "</table>\n",
       "</div>"
      ],
      "text/plain": [
       "   f f.1 f.2 f.3 f.4 f.5 f.10 f.11  l f.12  n f.13 f.14  t f.15 f.16 f.17 t.3\n",
       "0  f   f   f   f   t   f    f    f  l    f  n    f    f  t    f    f    f   t\n",
       "1  f   f   f   f   t   f    f    f  l    f  n    f    f  t    f    f    f   t\n",
       "2  f   f   f   f   f   f    f    f  l    f  n    f    f  t    f    f    f   t\n",
       "3  f   f   f   f   f   f    f    f  l    f  n    f    f  t    f    f    f   t\n",
       "4  f   f   f   f   f   f    f    f  l    f  n    f    f  t    f    f    f   t"
      ]
     },
     "execution_count": 47,
     "metadata": {},
     "output_type": "execute_result"
    }
   ],
   "source": [
    "ch_features.head()"
   ]
  },
  {
   "cell_type": "code",
   "execution_count": 48,
   "metadata": {},
   "outputs": [],
   "source": [
    "ch_target = ch['won'].copy"
   ]
  },
  {
   "cell_type": "code",
   "execution_count": 50,
   "metadata": {},
   "outputs": [
    {
     "data": {
      "text/plain": [
       "<bound method NDFrame.copy of 0         won\n",
       "1         won\n",
       "2         won\n",
       "3         won\n",
       "4         won\n",
       "        ...  \n",
       "3190    nowin\n",
       "3191    nowin\n",
       "3192    nowin\n",
       "3193    nowin\n",
       "3194    nowin\n",
       "Name: won, Length: 3195, dtype: object>"
      ]
     },
     "execution_count": 50,
     "metadata": {},
     "output_type": "execute_result"
    }
   ],
   "source": [
    "ch_target"
   ]
  },
  {
   "cell_type": "markdown",
   "metadata": {},
   "source": [
    "I propose, we use logistics regression"
   ]
  }
 ],
 "metadata": {
  "kernelspec": {
   "display_name": "Python 3",
   "language": "python",
   "name": "python3"
  },
  "language_info": {
   "codemirror_mode": {
    "name": "ipython",
    "version": 3
   },
   "file_extension": ".py",
   "mimetype": "text/x-python",
   "name": "python",
   "nbconvert_exporter": "python",
   "pygments_lexer": "ipython3",
   "version": "3.7.4"
  }
 },
 "nbformat": 4,
 "nbformat_minor": 2
}
